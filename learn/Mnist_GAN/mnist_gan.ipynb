{
 "cells": [
  {
   "cell_type": "code",
   "execution_count": 1,
   "id": "15132bfa-cb13-4e90-8979-1a6e23a2d808",
   "metadata": {},
   "outputs": [],
   "source": [
    "import torch\n",
    "import numpy as np\n",
    "import torch.nn as nn\n",
    "import torch.optim as optim\n",
    "import torchvision\n",
    "import torchvision.datasets as datasets\n",
    "from torch.utils.data import DataLoader\n",
    "import torchvision.transforms as transforms\n",
    "import matplotlib.pyplot as plt"
   ]
  },
  {
   "cell_type": "code",
   "execution_count": 2,
   "id": "ffc9f32e-5c0b-464d-a88d-4da9228d4096",
   "metadata": {},
   "outputs": [],
   "source": [
    "batchsize = 128\n",
    "lr = 3e-4\n",
    "z_dim = 100\n",
    "Epoch = 64\n",
    "img_channel = 1"
   ]
  },
  {
   "cell_type": "code",
   "execution_count": 15,
   "id": "acefeb36-c70e-4e49-8700-50f844de360e",
   "metadata": {},
   "outputs": [
    {
     "ename": "SyntaxError",
     "evalue": "unexpected EOF while parsing (1499926000.py, line 1)",
     "output_type": "error",
     "traceback": [
      "\u001b[0;36m  File \u001b[0;32m\"/var/folders/06/pp09l0fs13z7sw_1r4wvzt3m0000gn/T/ipykernel_38221/1499926000.py\"\u001b[0;36m, line \u001b[0;32m1\u001b[0m\n\u001b[0;31m    transform = transforms.Compose([transforms.ToTensor(), transforms.Normalize(transforms.Normalize([0.5], [0.5]))\u001b[0m\n\u001b[0m                                                                                                                    ^\u001b[0m\n\u001b[0;31mSyntaxError\u001b[0m\u001b[0;31m:\u001b[0m unexpected EOF while parsing\n"
     ]
    }
   ],
   "source": [
    "transform = transforms.Compose([transforms.ToTensor(), transforms.Normalize(transforms.Normalize([0.5], [0.5])) "
   ]
  },
  {
   "cell_type": "code",
   "execution_count": 50,
   "id": "399f11f6-51e0-495b-9981-e54fd95e7e48",
   "metadata": {},
   "outputs": [],
   "source": [
    "transform = transforms.Compose([transforms.ToTensor(), transforms.Normalize((0.5, 0.5), (0.5,0.5))])"
   ]
  },
  {
   "cell_type": "code",
   "execution_count": 16,
   "id": "9529d169-57d8-4e86-b69e-4e07c1027c1c",
   "metadata": {},
   "outputs": [],
   "source": [
    "transform = transforms.Compose([\n",
    "\ttransforms.ToTensor(), \n",
    "\ttransforms.Normalize([0.5], [0.5])\n",
    "])\n"
   ]
  },
  {
   "cell_type": "code",
   "execution_count": 17,
   "id": "52c12695-c2bd-4e9a-92d0-fc97471e9178",
   "metadata": {},
   "outputs": [],
   "source": [
    "dataset = datasets.MNIST(root=\"dataset/\", transform=transform, download=True)\n",
    "dataloader = DataLoader(dataset, batch_size = batchsize, shuffle = True)"
   ]
  },
  {
   "cell_type": "code",
   "execution_count": 18,
   "id": "3c5aeef1-2bee-4d1c-b3cf-aa98728bacd7",
   "metadata": {},
   "outputs": [],
   "source": [
    "class Disc(nn.Module):\n",
    "    def __init__(self, img_channel):\n",
    "        super().__init__()\n",
    "        # (batchsize, 1 , 28, 28)\n",
    "        self.c1 = nn.Conv2d(img_channel, 64, 4, 2, 1)\n",
    "        self.r1 = nn.LeakyReLU(0.2)\n",
    "        self.c2 = nn.Conv2d(64, 128, 4, 2, 1)           \n",
    "        self.r2 = nn.LeakyReLU(0.2)\n",
    "        self.c3 = nn.Conv2d(128, 256, 4, 2, 1)         \n",
    "        self.r3 = nn.LeakyReLU(0.2)\n",
    "        self.c4 = nn.Conv2d(256, 1, 4, 2, 1)           \n",
    "        self.r4 = nn.Sigmoid()\n",
    "        \n",
    "    def forward(self,x):\n",
    "        x = self.c1(x)\n",
    "        x = self.r1(x)\n",
    "        x = self.c2(x)\n",
    "        x = self.r2(x)\n",
    "        x = self.c3(x)\n",
    "        x = self.r3(x)\n",
    "        x = self.c4(x)\n",
    "        x = self.r4(x)\n",
    "        \n",
    "        return x"
   ]
  },
  {
   "cell_type": "code",
   "execution_count": 19,
   "id": "6eac9f4c-4ae2-497e-92fc-5bb49bf87d52",
   "metadata": {},
   "outputs": [],
   "source": [
    "class Gen(nn.Module):\n",
    "    def __init__(self,z_dim):\n",
    "        super().__init__()\n",
    "        # (batchsize, z_dim, 1, 1)\n",
    "        self.tc1 = nn.ConvTranspose2d(z_dim, 256, 3, 1, 0)\n",
    "        self.bn1 = nn.BatchNorm2d(256, 0.8)\n",
    "        self.r1 = nn.ReLU()\n",
    "        self.tc2 = nn.ConvTranspose2d(256, 128, 5, 2, 1)\n",
    "        self.bn2 = nn.BatchNorm2d(128, 0.8)\n",
    "        self.r2 = nn.ReLU()\n",
    "        self.tc3 = nn.ConvTranspose2d(128, 64, 4, 2, 1)\n",
    "        self.bn3 = nn.BatchNorm2d(64, 0.8)\n",
    "        self.r3 = nn.ReLU()\n",
    "        self.tc4 = nn.ConvTranspose2d(64, 1, 4, 2, 1)\n",
    "        self.r4 = nn.Tanh()\n",
    "        \n",
    "    def forward(self, x):\n",
    "        \n",
    "        x = self.tc1(x)\n",
    "        x = self.bn1(x)\n",
    "        x = self.r1(x)\n",
    "        x = self.tc2(x)\n",
    "        x = self.bn2(x)\n",
    "        x = self.r2(x)\n",
    "        x = self.tc3(x)\n",
    "        x = self.bn3(x)\n",
    "        x = self.r3(x)\n",
    "        x = self.tc4(x)\n",
    "        x = self.r4(x)\n",
    "        \n",
    "        return x"
   ]
  },
  {
   "cell_type": "code",
   "execution_count": 20,
   "id": "d05fb123-da01-4d2f-9665-938026e50177",
   "metadata": {},
   "outputs": [],
   "source": [
    "disc = Disc(img_channel)\n",
    "gen = Gen(z_dim)\n",
    "opt_disc = optim.Adam(disc.parameters(), lr = lr)\n",
    "opt_gen = optim.Adam(gen.parameters(), lr = lr)\n",
    "criterion = nn.BCELoss()\n"
   ]
  },
  {
   "cell_type": "code",
   "execution_count": 21,
   "id": "a197994e-8774-4fff-b909-53bf665ac9ec",
   "metadata": {},
   "outputs": [],
   "source": [
    "device = \"cuda\" if torch.cuda.is_available() else \"cpu\""
   ]
  },
  {
   "cell_type": "code",
   "execution_count": 22,
   "id": "b7adff4c-f8a1-4d7c-a09c-9e00812c326d",
   "metadata": {},
   "outputs": [
    {
     "data": {
      "text/plain": [
       "'cpu'"
      ]
     },
     "execution_count": 22,
     "metadata": {},
     "output_type": "execute_result"
    }
   ],
   "source": [
    "device"
   ]
  },
  {
   "cell_type": "code",
   "execution_count": 23,
   "id": "4366d3ea-0bb3-4a4c-adbb-feb01378b423",
   "metadata": {},
   "outputs": [],
   "source": [
    "disc = Disc(img_channel).to(device)\n",
    "gen = Gen(z_dim).to(device)"
   ]
  },
  {
   "cell_type": "code",
   "execution_count": 24,
   "id": "4573991b-be9f-4fb2-92f9-669954bfc2fd",
   "metadata": {},
   "outputs": [],
   "source": [
    "noise = torch.randn(batchsize, z_dim, 1, 1).to(device)"
   ]
  },
  {
   "cell_type": "code",
   "execution_count": 25,
   "id": "e7efcd35-b548-42dd-81f1-b9ae3d46989e",
   "metadata": {},
   "outputs": [],
   "source": [
    "def train():\n",
    "    for epoch in range(Epoch):\n",
    "        s\n",
    "            \n",
    "        for index, (data, _) in enumerate(dataloader):\n",
    "        # 传真实数据到gpu\n",
    "            real_data = data.to(device)\n",
    "            # 传入噪声生成假图片\n",
    "            fake_img = gen(noise)\n",
    "            # 真实图片传入判别器，判别为1\n",
    "            real = disc(real_data).view(-1)\n",
    "            # 假图传入判别器，判别为0\n",
    "            fake = disc(fake_img).view(-1)\n",
    "            # 损失\n",
    "            real_loss = criterion(real, torch.ones_like(real))\n",
    "            fake_loss = criterion(fake, torch.zeros_like(fake))\n",
    "            D_loss = (real_loss + fake_loss) / 2\n",
    "            G_loss = criterion(fake, torch.zeros_like(fake))\n",
    "            # 梯度清0\n",
    "            disc.zero_grad()\n",
    "            gen.zero_grad()\n",
    "            # 反向传播\n",
    "            D_loss.backward(retain_graph=True)\n",
    "            G_loss.backward(retain_graph=True)\n",
    "            # 梯度更新\n",
    "            opt_disc.step()\n",
    "            opt_gen.step()\n",
    "            # 打印损失\n",
    "            if index == 0:\n",
    "                print(f'EPOCH:{epoch + 1 } G_LOSS：{G_loss} D_LOSS:{D_loss}')\n",
    "            # 可视化图片\n",
    "                with torch.no_grad():\n",
    "                    img = fake_img.reshape(-1, 28, 28, 1).cpu().detach().numpy()\n",
    "                    plt.imshow(img[0])\n",
    "                    plt.show()\n",
    "\n",
    "\n"
   ]
  },
  {
   "cell_type": "code",
   "execution_count": 26,
   "id": "6c51e67c-731c-4fcf-a978-ed588f2615fe",
   "metadata": {},
   "outputs": [
    {
     "data": {
      "text/plain": [
       "<torch.utils.data.dataloader.DataLoader at 0x105a431c0>"
      ]
     },
     "execution_count": 26,
     "metadata": {},
     "output_type": "execute_result"
    }
   ],
   "source": [
    "dataloader"
   ]
  },
  {
   "cell_type": "code",
   "execution_count": null,
   "id": "68618266-8398-432f-ba12-fb7e64d57ed5",
   "metadata": {},
   "outputs": [
    {
     "name": "stdout",
     "output_type": "stream",
     "text": [
      "EPOCH:1 G_LOSS：0.683354377746582 D_LOSS:0.6934859156608582\n"
     ]
    },
    {
     "data": {
      "image/png": "[encoded data removed]",
      "text/plain": [
       "<Figure size 432x288 with 1 Axes>"
      ]
     },
     "metadata": {
      "needs_background": "light"
     },
     "output_type": "display_data"
    }
   ],
   "source": [
    "train()"
   ]
  },
  {
   "cell_type": "code",
   "execution_count": null,
   "id": "deebba04-f222-45df-91ee-a2a3b3170d86",
   "metadata": {},
   "outputs": [],
   "source": []
  }
 ],
 "metadata": {
  "kernelspec": {
   "display_name": "Python 3",
   "language": "python",
   "name": "python3"
  },
  "language_info": {
   "codemirror_mode": {
    "name": "ipython",
    "version": 3
   },
   "file_extension": ".py",
   "mimetype": "text/x-python",
   "name": "python",
   "nbconvert_exporter": "python",
   "pygments_lexer": "ipython3",
   "version": "3.8.12"
  }
 },
 "nbformat": 4,
 "nbformat_minor": 5
}
